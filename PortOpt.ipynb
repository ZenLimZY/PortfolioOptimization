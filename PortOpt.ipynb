{
 "cells": [
  {
   "cell_type": "code",
   "execution_count": 69,
   "id": "f40073fa",
   "metadata": {
    "scrolled": true
   },
   "outputs": [
    {
     "name": "stdout",
     "output_type": "stream",
     "text": [
      "{'GIM': 0.60932, 'HAS': 0.11736, 'YLD': 1.0, 'SPY': -1.0, 'TLT': 0.08764, 'USO': 0.18568}\n",
      "Expected annual return: 23.8%\n",
      "Annual volatility: 19.1%\n",
      "Sharpe Ratio: 1.14\n"
     ]
    },
    {
     "data": {
      "text/plain": [
       "(0.23779155761148088, 0.19059333236818937, 1.1427029209539703)"
      ]
     },
     "execution_count": 69,
     "metadata": {},
     "output_type": "execute_result"
    }
   ],
   "source": [
    "#Parameters\n",
    "\n",
    "MaxPctAllocation = 1 # Maximum Allocation weight of 1 asset\n",
    "MinPctAllocation = -1 # Minimum Allocation weight of 1 asset, -1 denotes able to short \n",
    "folder_name = \"PortOpt\"\n",
    "\n",
    "import pandas as pd #No PANDA NO LIFE\n",
    "import matplotlib.pyplot as plt #Plotting\n",
    "import os #CSV File Reading\n",
    "from pypfopt import EfficientFrontier\n",
    "from pypfopt import risk_models\n",
    "from pypfopt import expected_returns\n",
    "from pypfopt.expected_returns import mean_historical_return\n",
    "from pypfopt.risk_models import CovarianceShrinkage\n",
    "\n",
    "#For OS locating CSV folder\n",
    "current_dir = os.getcwd()\n",
    "folder_path = os.path.join(current_dir, folder_name)\n",
    "\n",
    "# List of CSV files\n",
    "csv_files = [os.path.join(folder_path, file) for file in os.listdir(folder_path) if file.endswith('.csv')]\n",
    "\n",
    "\n",
    "def read_each_file(csv_files):\n",
    "    # Initialize a dictionary to store each DataFrame\n",
    "    dfs = {}\n",
    "\n",
    "    # Loop over the list of CSV files\n",
    "    for csv_file in csv_files:\n",
    "        # Read the 'Exchange Date' and 'Close' columns from the current CSV file\n",
    "        df = pd.read_csv(csv_file, usecols=['Exchange Date', 'Close'])\n",
    "\n",
    "        # Converts 'Exchange Date' column into datetime format\n",
    "        df['Exchange Date'] = pd.to_datetime(df['Exchange Date'])\n",
    "\n",
    "        # Get the base name of the file (without extension)\n",
    "        base_name = csv_file.split('.')[0]\n",
    "        # Extract the last 3 characters from the base_name\n",
    "        new_column_name = base_name[-3:]\n",
    "        \n",
    "        # Rename the 'Close' and 'Daily Returns' columns\n",
    "        df.rename(columns={'Close': new_column_name}, inplace=True)\n",
    "\n",
    "        # Store the DataFrame in the dictionary, using the file name as the key\n",
    "        dfs[base_name] = df\n",
    "\n",
    "    return dfs\n",
    "\n",
    "\n",
    "\n",
    "# Read each file & conv into a df\n",
    "dataframes = read_each_file(csv_files)\n",
    "\n",
    "def merge_dataframes(dfs):\n",
    "    # Convert the dictionary values to a list\n",
    "    dfs_list = list(dfs.values())\n",
    "\n",
    "    # Use the first DataFrame as the initial merged DataFrame\n",
    "    merged_df = dfs_list[0]\n",
    "\n",
    "    # Loop over the rest of the DataFrames\n",
    "    for df in dfs_list[1:]:\n",
    "        # Merge the current DataFrame into the merged DataFrame\n",
    "        merged_df = pd.merge(merged_df, df, on='Exchange Date', how='inner')\n",
    "\n",
    "    return merged_df\n",
    "\n",
    "# merge function\n",
    "portfolio  = merge_dataframes(dataframes)\n",
    "#print(portfolio )\n",
    "\n",
    "\n",
    "# Drop the first row, which will contain NaN values after calculating daily returns\n",
    "portfolio = portfolio.dropna()\n",
    "\n",
    "#print(portfolio)\n",
    "\n",
    "# Calculate the expected returns\n",
    "returns_df = portfolio.drop('Exchange Date', axis=1)\n",
    "mu = mean_historical_return(returns_df)\n",
    "\n",
    "#Cal S\n",
    "S = CovarianceShrinkage(returns_df).ledoit_wolf()\n",
    "ef = EfficientFrontier(mu, S,weight_bounds=(MinPctAllocation, MaxPctAllocation))\n",
    "\n",
    "#Find Max Sharpe on curve\n",
    "weights = ef.max_sharpe()\n",
    "cleaned_weights = ef.clean_weights()\n",
    "print(dict(cleaned_weights))\n",
    "ef.portfolio_performance(verbose=True)\n"
   ]
  },
  {
   "cell_type": "code",
   "execution_count": null,
   "id": "d868ba61",
   "metadata": {},
   "outputs": [],
   "source": []
  }
 ],
 "metadata": {
  "kernelspec": {
   "display_name": "Python 3 (ipykernel)",
   "language": "python",
   "name": "python3"
  },
  "language_info": {
   "codemirror_mode": {
    "name": "ipython",
    "version": 3
   },
   "file_extension": ".py",
   "mimetype": "text/x-python",
   "name": "python",
   "nbconvert_exporter": "python",
   "pygments_lexer": "ipython3",
   "version": "3.9.13"
  }
 },
 "nbformat": 4,
 "nbformat_minor": 5
}
